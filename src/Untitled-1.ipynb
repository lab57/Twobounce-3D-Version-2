{
 "cells": [
  {
   "cell_type": "code",
   "execution_count": 2,
   "metadata": {},
   "outputs": [],
   "source": [
    "from GeometricObjects import *\n",
    "from dataclasses import dataclass"
   ]
  },
  {
   "cell_type": "code",
   "execution_count": 3,
   "metadata": {},
   "outputs": [],
   "source": [
    "T = Triangle([Vector(0, 0, 0), Vector(0, 1, 0), Vector(1, 1, 1)])\n",
    "RESOLUTION = 1\n"
   ]
  },
  {
   "cell_type": "code",
   "execution_count": 4,
   "metadata": {},
   "outputs": [
    {
     "name": "stdout",
     "output_type": "stream",
     "text": [
      "Tri[< 0.0,  0.0,  0.0>, < 0.0,  1.0,  0.0>, < 1.0,  1.0,  1.0>]\n"
     ]
    }
   ],
   "source": [
    "@dataclass\n",
    "class Hit:\n",
    "    tri: Triangle\n",
    "    obj: TriObject\n",
    "    u: float\n",
    "    v: float\n",
    "    t: float\n",
    "    origin: Vector\n",
    "    dir: Vector\n",
    "\n",
    "\n",
    "class Pixel:\n",
    "    def __init__(self, center: Vector) -> None:\n",
    "        self.status = 0\n",
    "        self.center = center\n",
    "\n",
    "\n",
    "class Triangle:\n",
    "    def __init__(self, coords: list[Vector]):\n",
    "        self.a: Vector = coords[0]\n",
    "        self.b: Vector = coords[1]\n",
    "        self.c: Vector = coords[2]\n",
    "        self.at = None\n",
    "        self.bt = None\n",
    "        self.ct = None\n",
    "\n",
    "    def getArea(self) -> float:\n",
    "        return 1 / 2 * abs(((self.a - self.b).cross(self.a - self.c)))\n",
    "\n",
    "    def intersect(self, ray_start, ray_vec) -> tuple[bool, Vector]:\n",
    "        \"\"\"\n",
    "        Detect intersection between this triangle and ray_vec originating from ray_start\n",
    "\n",
    "        :param ray_start: Vector indicating the origin of the ray\n",
    "        :param ray_vec: Vector indicating direction of the ray\n",
    "        :return: bool indicating if it was a hit, and vector indicating parameterized t, and local coordinates u, v\n",
    "        \"\"\"\n",
    "        # define a null intersection\n",
    "        # null_inter = [None, None, None]  # np.array([np.nan, np.nan, np.nan])\n",
    "        null_inter = Vector(None, None, None)\n",
    "        # ray_start = np.asarray(ray_start)\n",
    "        # ray_vec = np.asarray(ray_vec)\n",
    "\n",
    "        # break down triangle into the individual points\n",
    "        v1, v2, v3 = self.a, self.b, self.c\n",
    "        eps = 0.000001\n",
    "\n",
    "        # compute edges\n",
    "        edge1 = v2 - v1\n",
    "        edge2 = v3 - v1\n",
    "        # pvec = np.cross(ray_vec, edge2)\n",
    "        pvec = ray_vec.cross(edge2)\n",
    "        det = edge1.dot(pvec)\n",
    "\n",
    "        if abs(det) < eps:  # no intersection\n",
    "            # print('fail1')\n",
    "            return False, null_inter\n",
    "        inv_det = 1.0 / det\n",
    "        tvec = ray_start - v1\n",
    "        u = tvec.dot(pvec) * inv_det\n",
    "        # print(u)\n",
    "        if u < 0.0 or u > 1.0:  # if not intersection\n",
    "            # print('fail2')\n",
    "            return False, null_inter\n",
    "\n",
    "        qvec = tvec.cross(edge1)\n",
    "        v = ray_vec.dot(qvec) * inv_det\n",
    "        if v < 0.0 or u + v > 1.0:  # if not intersection\n",
    "            #  print('fail3')\n",
    "            return False, null_inter\n",
    "\n",
    "        t = edge2.dot(qvec) * inv_det\n",
    "        if t < eps:\n",
    "            #   print('fail4')\n",
    "            return False, null_inter\n",
    "\n",
    "        return True, Vector(t, u, v)\n"
   ]
  },
  {
   "cell_type": "code",
   "execution_count": null,
   "metadata": {},
   "outputs": [],
   "source": [
    "class TriObject:\n",
    "    bounding_box: list[Vector]\n",
    "\n",
    "    def __init__(\n",
    "        self, name: str, triangles: list[Triangle], points: list[Vector]\n",
    "    ) -> None:\n",
    "        self.name = name\n",
    "        self.triangles = triangles\n",
    "        self.points = points\n",
    "        self.texture: list[Pixel] = []\n",
    "        self.boundingBox: list[Vector] = []\n",
    "        self.calcBoundingBox()\n",
    "\n",
    "    def surfaceArea(self) -> float:\n",
    "        SA = 0\n",
    "        for triangle in self.triangles:\n",
    "            SA = +triangle.getArea()\n",
    "        return SA\n",
    "\n",
    "    def calcBoundingBox(self):\n",
    "        minX = min([vec.x for vec in self.points])\n",
    "        minY = min([vec.y for vec in self.points])\n",
    "        minZ = min([vec.z for vec in self.points])\n",
    "        maxX = max([vec.x for vec in self.points])\n",
    "        maxY = max([vec.y for vec in self.points])\n",
    "        maxZ = max([vec.z for vec in self.points])\n",
    "        minPt = Vector(minX, minY, minZ)\n",
    "        maxPt = Vector(maxX, maxY, maxZ)\n",
    "        self.boundingBox = [minPt, maxPt]\n"
   ]
  }
 ],
 "metadata": {
  "kernelspec": {
   "display_name": "py11",
   "language": "python",
   "name": "python3"
  },
  "language_info": {
   "codemirror_mode": {
    "name": "ipython",
    "version": 3
   },
   "file_extension": ".py",
   "mimetype": "text/x-python",
   "name": "python",
   "nbconvert_exporter": "python",
   "pygments_lexer": "ipython3",
   "version": "3.11.0"
  },
  "orig_nbformat": 4
 },
 "nbformat": 4,
 "nbformat_minor": 2
}
